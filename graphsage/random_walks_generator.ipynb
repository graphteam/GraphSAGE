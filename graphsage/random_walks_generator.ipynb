{
 "cells": [
  {
   "cell_type": "code",
   "execution_count": 206,
   "metadata": {},
   "outputs": [],
   "source": [
    "import pandas as pd\n",
    "import networkx as nx\n",
    "import json\n",
    "from networkx.readwrite import json_graph\n",
    "import numpy as np\n",
    "import random\n",
    "import sys\n",
    "import os\n",
    "from numba import jitclass, int32, float32, uint64\n",
    "import scipy\n",
    "from scipy.sparse import csr_matrix, load_npz, save_npz, spdiags"
   ]
  },
  {
   "cell_type": "code",
   "execution_count": 207,
   "metadata": {},
   "outputs": [],
   "source": [
    "@jitclass([\n",
    "    ('K', uint64),\n",
    "    ('values', uint64[:]),\n",
    "    ('q', float32[:]),\n",
    "    ('J', uint64[:]),\n",
    "])\n",
    "class FastRandomChoiceCached(object):\n",
    "    def __init__(self, values, probs):\n",
    "        self.values = values\n",
    "        self.K = np.uint64(probs.size)\n",
    "        self.q = np.zeros(self.K, dtype=np.float32)\n",
    "        self.J = np.zeros(self.K, dtype=np.uint64)\n",
    "        self.prep_var_sample(probs)\n",
    "\n",
    "    def prep_var_sample(self, probs):\n",
    "        smaller, larger = [], []\n",
    "        for kk, prob in enumerate(probs):\n",
    "            self.q[kk] = self.K * prob\n",
    "            if self.q[kk] < 1.0:\n",
    "                smaller.append(kk)\n",
    "            else:\n",
    "                larger.append(kk)\n",
    "        while len(smaller) > 0 and len(larger) > 0:\n",
    "            small, large = smaller.pop(), larger.pop()\n",
    "            self.J[small] = large\n",
    "            self.q[large] = self.q[large] - (1.0 - self.q[small])\n",
    "            if self.q[large] < 1.0:\n",
    "                smaller.append(large)\n",
    "            else:\n",
    "                larger.append(large)\n",
    "\n",
    "    def draw_one(self):\n",
    "        kk = int(np.floor(np.random.rand() * len(self.J)))\n",
    "        if np.random.rand() < self.q[kk]:\n",
    "            return self.values[kk]\n",
    "        else:\n",
    "            return self.values[self.J[kk]]\n",
    "\n",
    "    def sample(self, n, r1, r2):\n",
    "        res = np.zeros(n, dtype=np.int32)\n",
    "        lj = len(self.J)\n",
    "        for i in range(n):\n",
    "            kk = int(np.floor(r1[i] * lj))\n",
    "            if r2[i] < self.q[kk]:\n",
    "                res[i] = kk\n",
    "            else:\n",
    "                res[i] = self.J[kk]\n",
    "        return res\n",
    "\n",
    "    def draw_n(self, n):\n",
    "        r1, r2 = np.random.rand(n), np.random.rand(n)\n",
    "        return self.values[self.sample(n, r1, r2)]"
   ]
  },
  {
   "cell_type": "code",
   "execution_count": 208,
   "metadata": {},
   "outputs": [],
   "source": [
    "def normalize(graph):\n",
    "    norm_consts = graph.sum(axis=1)\n",
    "    norm_consts = np.array(norm_consts).squeeze()\n",
    "    norm = 1 / norm_consts\n",
    "    norm[norm == np.inf] = 0\n",
    "    graph = spdiags(norm, 0, len(norm_consts), len(norm_consts)) * graph\n",
    "    return graph"
   ]
  },
  {
   "cell_type": "code",
   "execution_count": 209,
   "metadata": {},
   "outputs": [],
   "source": [
    "prefix = './example_data/ppi'\n",
    "G_data = json.load(open(prefix + \"-G.json\"))\n",
    "G = json_graph.node_link_graph(G_data)\n",
    "G_ours = nx.to_scipy_sparse_matrix(G)\n",
    "G_ours = normalize(G_ours)"
   ]
  },
  {
   "cell_type": "code",
   "execution_count": 210,
   "metadata": {},
   "outputs": [],
   "source": [
    "import tqdm\n",
    "from scipy.sparse import csr_matrix, coo_matrix, lil_matrix"
   ]
  },
  {
   "cell_type": "code",
   "execution_count": 211,
   "metadata": {},
   "outputs": [],
   "source": [
    "def run_random_walks(G, num_walks=1000, walk_len=2):\n",
    "    pairs = lil_matrix(G.shape)\n",
    "    \n",
    "    random_cached_G = []\n",
    "    for i in tqdm.tqdm(range(G.shape[0])):\n",
    "        random_cached_G.append(FastRandomChoiceCached(\n",
    "            G[i].indices.astype(np.uint64),\n",
    "            G[i].data))\n",
    "        \n",
    "    for node in tqdm.tqdm(range(G.shape[0])):\n",
    "        if len(G[node].indices) == 0:\n",
    "            continue\n",
    "        for i in range(num_walks):\n",
    "            curr_node = node\n",
    "            for j in range(walk_len):\n",
    "                next_node = random_cached_G[curr_node].draw_one()\n",
    "                # self co-occurrences are useless\n",
    "                if curr_node != node:\n",
    "                    pairs[node, curr_node] += 1\n",
    "                curr_node = next_node\n",
    "    return (pairs).tocoo()"
   ]
  },
  {
   "cell_type": "code",
   "execution_count": 212,
   "metadata": {},
   "outputs": [
    {
     "name": "stderr",
     "output_type": "stream",
     "text": [
      "100%|██████████| 14755/14755 [00:02<00:00, 5389.41it/s]\n",
      "100%|██████████| 14755/14755 [02:25<00:00, 101.18it/s]\n"
     ]
    }
   ],
   "source": [
    "pairs = run_random_walks(G_ours)"
   ]
  },
  {
   "cell_type": "code",
   "execution_count": 214,
   "metadata": {},
   "outputs": [],
   "source": [
    "scipy.sparse.save_npz('./example_data/ppi' + '-walks.npz',pairs)"
   ]
  },
  {
   "cell_type": "code",
   "execution_count": 215,
   "metadata": {},
   "outputs": [
    {
     "name": "stdout",
     "output_type": "stream",
     "text": [
      "/Users/kolya/work/GraphSAGE-master 2\r\n"
     ]
    }
   ],
   "source": [
    "!pwd"
   ]
  },
  {
   "cell_type": "code",
   "execution_count": 197,
   "metadata": {},
   "outputs": [],
   "source": [
    "class batch_sampler:\n",
    "    def __init__(self, pairs):\n",
    "        self.shape = pairs.shape\n",
    "        self.node_sampler = FastRandomChoiceCached(\n",
    "            np.ravel_multi_index((pairs.row, pairs.col), dims=pairs.shape).astype(np.uint64),\n",
    "            pairs.data / pairs.data.sum()\n",
    "        )\n",
    "    \n",
    "    def sample_batch(self, batch_size=10):\n",
    "        batch = self.node_sampler.draw_n(batch_size)\n",
    "        return np.unravel_index(batch, self.shape)"
   ]
  },
  {
   "cell_type": "code",
   "execution_count": 201,
   "metadata": {},
   "outputs": [],
   "source": [
    "bs = batch_sampler(pairs)"
   ]
  },
  {
   "cell_type": "code",
   "execution_count": 203,
   "metadata": {},
   "outputs": [
    {
     "name": "stdout",
     "output_type": "stream",
     "text": [
      "727 µs ± 1.9 µs per loop (mean ± std. dev. of 7 runs, 1000 loops each)\n"
     ]
    }
   ],
   "source": [
    "%%timeit\n",
    "bs.sample_batch(10000)"
   ]
  }
 ],
 "metadata": {
  "kernelspec": {
   "display_name": "Python 3",
   "language": "python",
   "name": "python3"
  },
  "language_info": {
   "codemirror_mode": {
    "name": "ipython",
    "version": 3
   },
   "file_extension": ".py",
   "mimetype": "text/x-python",
   "name": "python",
   "nbconvert_exporter": "python",
   "pygments_lexer": "ipython3",
   "version": "3.6.3"
  }
 },
 "nbformat": 4,
 "nbformat_minor": 2
}
